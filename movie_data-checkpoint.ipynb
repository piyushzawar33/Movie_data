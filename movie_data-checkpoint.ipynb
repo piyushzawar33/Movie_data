{
 "cells": [
  {
   "cell_type": "code",
   "execution_count": 1,
   "id": "01272132-6577-4b20-a02d-c870bda89608",
   "metadata": {},
   "outputs": [
    {
     "name": "stdout",
     "output_type": "stream",
     "text": [
      "['links.csv', 'movies.csv', 'ratings.csv', 'README.txt', 'tags.csv']\n"
     ]
    },
    {
     "data": {
      "text/html": [
       "<div>\n",
       "<style scoped>\n",
       "    .dataframe tbody tr th:only-of-type {\n",
       "        vertical-align: middle;\n",
       "    }\n",
       "\n",
       "    .dataframe tbody tr th {\n",
       "        vertical-align: top;\n",
       "    }\n",
       "\n",
       "    .dataframe thead th {\n",
       "        text-align: right;\n",
       "    }\n",
       "</style>\n",
       "<table border=\"1\" class=\"dataframe\">\n",
       "  <thead>\n",
       "    <tr style=\"text-align: right;\">\n",
       "      <th></th>\n",
       "      <th>movieId</th>\n",
       "      <th>title</th>\n",
       "      <th>genres</th>\n",
       "    </tr>\n",
       "  </thead>\n",
       "  <tbody>\n",
       "    <tr>\n",
       "      <th>0</th>\n",
       "      <td>1</td>\n",
       "      <td>Toy Story (1995)</td>\n",
       "      <td>Adventure|Animation|Children|Comedy|Fantasy</td>\n",
       "    </tr>\n",
       "    <tr>\n",
       "      <th>1</th>\n",
       "      <td>2</td>\n",
       "      <td>Jumanji (1995)</td>\n",
       "      <td>Adventure|Children|Fantasy</td>\n",
       "    </tr>\n",
       "    <tr>\n",
       "      <th>2</th>\n",
       "      <td>3</td>\n",
       "      <td>Grumpier Old Men (1995)</td>\n",
       "      <td>Comedy|Romance</td>\n",
       "    </tr>\n",
       "    <tr>\n",
       "      <th>3</th>\n",
       "      <td>4</td>\n",
       "      <td>Waiting to Exhale (1995)</td>\n",
       "      <td>Comedy|Drama|Romance</td>\n",
       "    </tr>\n",
       "    <tr>\n",
       "      <th>4</th>\n",
       "      <td>5</td>\n",
       "      <td>Father of the Bride Part II (1995)</td>\n",
       "      <td>Comedy</td>\n",
       "    </tr>\n",
       "  </tbody>\n",
       "</table>\n",
       "</div>"
      ],
      "text/plain": [
       "   movieId                               title  \\\n",
       "0        1                    Toy Story (1995)   \n",
       "1        2                      Jumanji (1995)   \n",
       "2        3             Grumpier Old Men (1995)   \n",
       "3        4            Waiting to Exhale (1995)   \n",
       "4        5  Father of the Bride Part II (1995)   \n",
       "\n",
       "                                        genres  \n",
       "0  Adventure|Animation|Children|Comedy|Fantasy  \n",
       "1                   Adventure|Children|Fantasy  \n",
       "2                               Comedy|Romance  \n",
       "3                         Comedy|Drama|Romance  \n",
       "4                                       Comedy  "
      ]
     },
     "execution_count": 1,
     "metadata": {},
     "output_type": "execute_result"
    }
   ],
   "source": [
    "import numpy as np\n",
    "import pandas as pd\n",
    "import zipfile\n",
    "from io import BytesIO\n",
    "\n",
    "with zipfile.ZipFile('movie_data.zip') as z:\n",
    "    print(z.namelist())\n",
    "\n",
    "    with z.open('movies.csv') as f:\n",
    "        movies_df = pd.read_csv(f)\n",
    "\n",
    "movies_df.head()"
   ]
  },
  {
   "cell_type": "code",
   "execution_count": 2,
   "id": "88ce8b01-6f11-4a85-90c8-292fac9caf5c",
   "metadata": {},
   "outputs": [
    {
     "data": {
      "text/plain": [
       "(9742, 3)"
      ]
     },
     "execution_count": 2,
     "metadata": {},
     "output_type": "execute_result"
    }
   ],
   "source": [
    "movies_df.shape"
   ]
  },
  {
   "cell_type": "code",
   "execution_count": 3,
   "id": "37d09c46-d959-4131-88eb-f2f2e11d6b8e",
   "metadata": {},
   "outputs": [
    {
     "data": {
      "text/html": [
       "<div>\n",
       "<style scoped>\n",
       "    .dataframe tbody tr th:only-of-type {\n",
       "        vertical-align: middle;\n",
       "    }\n",
       "\n",
       "    .dataframe tbody tr th {\n",
       "        vertical-align: top;\n",
       "    }\n",
       "\n",
       "    .dataframe thead th {\n",
       "        text-align: right;\n",
       "    }\n",
       "</style>\n",
       "<table border=\"1\" class=\"dataframe\">\n",
       "  <thead>\n",
       "    <tr style=\"text-align: right;\">\n",
       "      <th></th>\n",
       "      <th>userId</th>\n",
       "      <th>movieId</th>\n",
       "      <th>rating</th>\n",
       "      <th>timestamp</th>\n",
       "    </tr>\n",
       "  </thead>\n",
       "  <tbody>\n",
       "    <tr>\n",
       "      <th>0</th>\n",
       "      <td>1</td>\n",
       "      <td>1</td>\n",
       "      <td>4.0</td>\n",
       "      <td>964982703</td>\n",
       "    </tr>\n",
       "    <tr>\n",
       "      <th>1</th>\n",
       "      <td>1</td>\n",
       "      <td>3</td>\n",
       "      <td>4.0</td>\n",
       "      <td>964981247</td>\n",
       "    </tr>\n",
       "    <tr>\n",
       "      <th>2</th>\n",
       "      <td>1</td>\n",
       "      <td>6</td>\n",
       "      <td>4.0</td>\n",
       "      <td>964982224</td>\n",
       "    </tr>\n",
       "    <tr>\n",
       "      <th>3</th>\n",
       "      <td>1</td>\n",
       "      <td>47</td>\n",
       "      <td>5.0</td>\n",
       "      <td>964983815</td>\n",
       "    </tr>\n",
       "    <tr>\n",
       "      <th>4</th>\n",
       "      <td>1</td>\n",
       "      <td>50</td>\n",
       "      <td>5.0</td>\n",
       "      <td>964982931</td>\n",
       "    </tr>\n",
       "  </tbody>\n",
       "</table>\n",
       "</div>"
      ],
      "text/plain": [
       "   userId  movieId  rating  timestamp\n",
       "0       1        1     4.0  964982703\n",
       "1       1        3     4.0  964981247\n",
       "2       1        6     4.0  964982224\n",
       "3       1       47     5.0  964983815\n",
       "4       1       50     5.0  964982931"
      ]
     },
     "execution_count": 3,
     "metadata": {},
     "output_type": "execute_result"
    }
   ],
   "source": [
    "with zipfile.ZipFile('movie_data.zip') as z:\n",
    "    with z.open('ratings.csv') as f:\n",
    "        ratings_df = pd.read_csv(f)\n",
    "\n",
    "ratings_df.head()"
   ]
  },
  {
   "cell_type": "code",
   "execution_count": 4,
   "id": "1b337e20-8820-47b5-99e3-fa60f6999245",
   "metadata": {},
   "outputs": [
    {
     "data": {
      "text/plain": [
       "(100836, 4)"
      ]
     },
     "execution_count": 4,
     "metadata": {},
     "output_type": "execute_result"
    }
   ],
   "source": [
    "ratings_df.shape"
   ]
  },
  {
   "cell_type": "code",
   "execution_count": 5,
   "id": "c4ab982c-14de-4bcc-a7d3-d7b5e7c3a847",
   "metadata": {},
   "outputs": [
    {
     "data": {
      "text/plain": [
       "np.int64(186355)"
      ]
     },
     "execution_count": 5,
     "metadata": {},
     "output_type": "execute_result"
    }
   ],
   "source": [
    "ratings_df['userId'].unique().sum()"
   ]
  },
  {
   "cell_type": "code",
   "execution_count": 6,
   "id": "f5b8dacd-9daa-46c5-9f86-34cbde590418",
   "metadata": {},
   "outputs": [
    {
     "data": {
      "text/html": [
       "<div>\n",
       "<style scoped>\n",
       "    .dataframe tbody tr th:only-of-type {\n",
       "        vertical-align: middle;\n",
       "    }\n",
       "\n",
       "    .dataframe tbody tr th {\n",
       "        vertical-align: top;\n",
       "    }\n",
       "\n",
       "    .dataframe thead th {\n",
       "        text-align: right;\n",
       "    }\n",
       "</style>\n",
       "<table border=\"1\" class=\"dataframe\">\n",
       "  <thead>\n",
       "    <tr style=\"text-align: right;\">\n",
       "      <th></th>\n",
       "      <th>userId</th>\n",
       "      <th>movieId</th>\n",
       "      <th>rating</th>\n",
       "      <th>timestamp</th>\n",
       "    </tr>\n",
       "  </thead>\n",
       "  <tbody>\n",
       "    <tr>\n",
       "      <th>91311</th>\n",
       "      <td>592</td>\n",
       "      <td>112</td>\n",
       "      <td>3.0</td>\n",
       "      <td>837350598</td>\n",
       "    </tr>\n",
       "    <tr>\n",
       "      <th>97546</th>\n",
       "      <td>606</td>\n",
       "      <td>1175</td>\n",
       "      <td>4.0</td>\n",
       "      <td>1171758723</td>\n",
       "    </tr>\n",
       "    <tr>\n",
       "      <th>24214</th>\n",
       "      <td>167</td>\n",
       "      <td>33794</td>\n",
       "      <td>5.0</td>\n",
       "      <td>1154719082</td>\n",
       "    </tr>\n",
       "    <tr>\n",
       "      <th>94009</th>\n",
       "      <td>599</td>\n",
       "      <td>5247</td>\n",
       "      <td>2.0</td>\n",
       "      <td>1519140809</td>\n",
       "    </tr>\n",
       "    <tr>\n",
       "      <th>31010</th>\n",
       "      <td>217</td>\n",
       "      <td>694</td>\n",
       "      <td>3.0</td>\n",
       "      <td>955941460</td>\n",
       "    </tr>\n",
       "  </tbody>\n",
       "</table>\n",
       "</div>"
      ],
      "text/plain": [
       "       userId  movieId  rating   timestamp\n",
       "91311     592      112     3.0   837350598\n",
       "97546     606     1175     4.0  1171758723\n",
       "24214     167    33794     5.0  1154719082\n",
       "94009     599     5247     2.0  1519140809\n",
       "31010     217      694     3.0   955941460"
      ]
     },
     "execution_count": 6,
     "metadata": {},
     "output_type": "execute_result"
    }
   ],
   "source": [
    "ratings_df.sample(5)"
   ]
  },
  {
   "cell_type": "code",
   "execution_count": 7,
   "id": "13129815-0924-4662-8b18-ef8a74821873",
   "metadata": {},
   "outputs": [
    {
     "data": {
      "text/plain": [
       "title           Forrest Gump (1994)\n",
       "rating_count                    329\n",
       "Name: 314, dtype: object"
      ]
     },
     "execution_count": 7,
     "metadata": {},
     "output_type": "execute_result"
    }
   ],
   "source": [
    "# Group by movieId and count the number of ratings each movie received\n",
    "ratings_count = ratings_df.groupby('movieId').size().reset_index(name='rating_count')\n",
    "\n",
    "# Merge with movies_df to get movie titles\n",
    "movies_ratings = pd.merge(ratings_count, movies_df, on='movieId')\n",
    "\n",
    "# Find the movie with the maximum number of ratings\n",
    "max_ratings_movie = movies_ratings.loc[movies_ratings['rating_count'].idxmax()]\n",
    "\n",
    "max_ratings_movie[['title', 'rating_count']]"
   ]
  },
  {
   "cell_type": "code",
   "execution_count": 8,
   "id": "58abc0ab-7a23-4c22-9da7-560dc091436c",
   "metadata": {},
   "outputs": [
    {
     "data": {
      "text/plain": [
       "['alternate universe', 'philosophy', 'post apocalyptic']"
      ]
     },
     "execution_count": 8,
     "metadata": {},
     "output_type": "execute_result"
    }
   ],
   "source": [
    "with zipfile.ZipFile('movie_data.zip') as z:\n",
    "    with z.open('tags.csv') as f:\n",
    "        tags_df = pd.read_csv(f)\n",
    "\n",
    "# Filter the tags for the movie \"Matrix, The (1999)\"\n",
    "matrix_movie_id = movies_df[movies_df['title'] == \"Matrix, The (1999)\"]['movieId'].values[0]\n",
    "matrix_tags = tags_df[tags_df['movieId'] == matrix_movie_id]['tag'].unique()\n",
    "\n",
    "# Provided tags to check against\n",
    "provided_tags = [\"alternate universe\", \"karate\", \"philosophy\", \"post apocalyptic\"]\n",
    "\n",
    "# Find which provided tags are correct\n",
    "correct_tags = [tag for tag in provided_tags if tag in matrix_tags]\n",
    "\n",
    "correct_tags"
   ]
  },
  {
   "cell_type": "code",
   "execution_count": 9,
   "id": "65e91f86-422f-4f99-9dc2-af922e855fe8",
   "metadata": {},
   "outputs": [
    {
     "data": {
      "text/plain": [
       "np.float64(3.970982142857143)"
      ]
     },
     "execution_count": 9,
     "metadata": {},
     "output_type": "execute_result"
    }
   ],
   "source": [
    "# Find the movieId for \"Terminator 2: Judgment Day (1991)\"\n",
    "terminator_movie_id = movies_df[movies_df['title'] == \"Terminator 2: Judgment Day (1991)\"]['movieId'].values[0]\n",
    "\n",
    "# Filter ratings for this movie\n",
    "terminator_ratings = ratings_df[ratings_df['movieId'] == terminator_movie_id]\n",
    "\n",
    "# Calculate the average rating\n",
    "average_rating = terminator_ratings['rating'].mean()\n",
    "\n",
    "average_rating"
   ]
  },
  {
   "cell_type": "code",
   "execution_count": 10,
   "id": "e6f56f72-0df1-44c3-bc08-5da3ea2b0a13",
   "metadata": {},
   "outputs": [
    {
     "data": {
      "image/png": "[encoded data removed]",
      "text/plain": [
       "<Figure size 800x600 with 1 Axes>"
      ]
     },
     "metadata": {},
     "output_type": "display_data"
    },
    {
     "data": {
      "text/plain": [
       "np.float64(-1.8603186380018706)"
      ]
     },
     "execution_count": 10,
     "metadata": {},
     "output_type": "execute_result"
    }
   ],
   "source": [
    "import matplotlib.pyplot as plt\n",
    "import seaborn as sns\n",
    "\n",
    "# Find the movieId for \"Fight Club (1999)\"\n",
    "fight_club_movie_id = movies_df[movies_df['title'] == \"Fight Club (1999)\"]['movieId'].values[0]\n",
    "\n",
    "# Filter ratings for this movie\n",
    "fight_club_ratings = ratings_df[ratings_df['movieId'] == fight_club_movie_id]['rating']\n",
    "\n",
    "# Plot the distribution of ratings\n",
    "plt.figure(figsize=(8, 6))\n",
    "sns.histplot(fight_club_ratings, kde=True, bins=10)\n",
    "plt.title('Distribution of User Ratings for \"Fight Club (1999)\"')\n",
    "plt.xlabel('Rating')\n",
    "plt.ylabel('Frequency')\n",
    "plt.grid(True)\n",
    "plt.show()\n",
    "\n",
    "# Check skewness to determine distribution type\n",
    "skewness = fight_club_ratings.skew()\n",
    "skewness"
   ]
  },
  {
   "cell_type": "code",
   "execution_count": 11,
   "id": "b01d78ae-900e-4c28-ad52-486ba0fcb5c4",
   "metadata": {},
   "outputs": [
    {
     "data": {
      "text/html": [
       "<div>\n",
       "<style scoped>\n",
       "    .dataframe tbody tr th:only-of-type {\n",
       "        vertical-align: middle;\n",
       "    }\n",
       "\n",
       "    .dataframe tbody tr th {\n",
       "        vertical-align: top;\n",
       "    }\n",
       "\n",
       "    .dataframe thead th {\n",
       "        text-align: right;\n",
       "    }\n",
       "</style>\n",
       "<table border=\"1\" class=\"dataframe\">\n",
       "  <thead>\n",
       "    <tr style=\"text-align: right;\">\n",
       "      <th></th>\n",
       "      <th>movieId</th>\n",
       "      <th>title</th>\n",
       "      <th>genres</th>\n",
       "      <th>rating_count</th>\n",
       "      <th>rating_mean</th>\n",
       "    </tr>\n",
       "  </thead>\n",
       "  <tbody>\n",
       "    <tr>\n",
       "      <th>0</th>\n",
       "      <td>1</td>\n",
       "      <td>Toy Story (1995)</td>\n",
       "      <td>Adventure|Animation|Children|Comedy|Fantasy</td>\n",
       "      <td>215</td>\n",
       "      <td>3.920930</td>\n",
       "    </tr>\n",
       "    <tr>\n",
       "      <th>1</th>\n",
       "      <td>2</td>\n",
       "      <td>Jumanji (1995)</td>\n",
       "      <td>Adventure|Children|Fantasy</td>\n",
       "      <td>110</td>\n",
       "      <td>3.431818</td>\n",
       "    </tr>\n",
       "    <tr>\n",
       "      <th>2</th>\n",
       "      <td>3</td>\n",
       "      <td>Grumpier Old Men (1995)</td>\n",
       "      <td>Comedy|Romance</td>\n",
       "      <td>52</td>\n",
       "      <td>3.259615</td>\n",
       "    </tr>\n",
       "    <tr>\n",
       "      <th>5</th>\n",
       "      <td>6</td>\n",
       "      <td>Heat (1995)</td>\n",
       "      <td>Action|Crime|Thriller</td>\n",
       "      <td>102</td>\n",
       "      <td>3.946078</td>\n",
       "    </tr>\n",
       "    <tr>\n",
       "      <th>6</th>\n",
       "      <td>7</td>\n",
       "      <td>Sabrina (1995)</td>\n",
       "      <td>Comedy|Romance</td>\n",
       "      <td>54</td>\n",
       "      <td>3.185185</td>\n",
       "    </tr>\n",
       "  </tbody>\n",
       "</table>\n",
       "</div>"
      ],
      "text/plain": [
       "   movieId                    title  \\\n",
       "0        1         Toy Story (1995)   \n",
       "1        2           Jumanji (1995)   \n",
       "2        3  Grumpier Old Men (1995)   \n",
       "5        6              Heat (1995)   \n",
       "6        7           Sabrina (1995)   \n",
       "\n",
       "                                        genres  rating_count  rating_mean  \n",
       "0  Adventure|Animation|Children|Comedy|Fantasy           215     3.920930  \n",
       "1                   Adventure|Children|Fantasy           110     3.431818  \n",
       "2                               Comedy|Romance            52     3.259615  \n",
       "5                        Action|Crime|Thriller           102     3.946078  \n",
       "6                               Comedy|Romance            54     3.185185  "
      ]
     },
     "execution_count": 11,
     "metadata": {},
     "output_type": "execute_result"
    }
   ],
   "source": [
    "# Step 1: Group the user ratings by movieId and apply aggregation operations\n",
    "grouped_ratings_df = ratings_df.groupby('movieId').agg(\n",
    "    rating_count=('rating', 'count'),\n",
    "    rating_mean=('rating', 'mean')\n",
    ").reset_index()\n",
    "\n",
    "# Step 2: Apply inner join between the movies dataframe and the grouped ratings dataframe\n",
    "merged_df = pd.merge(movies_df, grouped_ratings_df, on='movieId', how='inner')\n",
    "\n",
    "# Step 3: Filter movies that have received more than 50 user ratings\n",
    "filtered_df = merged_df[merged_df['rating_count'] > 50]\n",
    "\n",
    "# Display the first few rows to confirm\n",
    "filtered_df.head()"
   ]
  },
  {
   "cell_type": "code",
   "execution_count": 12,
   "id": "a04fad9d-b666-4ade-9b37-a258c08b840e",
   "metadata": {},
   "outputs": [
    {
     "data": {
      "text/plain": [
       "title          Shawshank Redemption, The (1994)\n",
       "rating_mean                            4.429022\n",
       "Name: 277, dtype: object"
      ]
     },
     "execution_count": 12,
     "metadata": {},
     "output_type": "execute_result"
    }
   ],
   "source": [
    "# Filter the movies of interest from the filtered dataframe\n",
    "movies_of_interest = filtered_df[filtered_df['title'].isin([\n",
    "    \"Godfather, The (1972)\",\n",
    "    \"Shawshank Redemption, The (1994)\",\n",
    "    \"Jumanji (1995)\",\n",
    "    \"Wolf of Wall Street, The (2013)\"\n",
    "])]\n",
    "\n",
    "# Find the movie with the highest average rating\n",
    "most_popular_movie = movies_of_interest.loc[movies_of_interest['rating_mean'].idxmax()]\n",
    "\n",
    "most_popular_movie[['title', 'rating_mean']]"
   ]
  },
  {
   "cell_type": "code",
   "execution_count": 13,
   "id": "2f2643d1-7c22-4773-acae-ee5ee723c008",
   "metadata": {},
   "outputs": [
    {
     "data": {
      "text/html": [
       "<div>\n",
       "<style scoped>\n",
       "    .dataframe tbody tr th:only-of-type {\n",
       "        vertical-align: middle;\n",
       "    }\n",
       "\n",
       "    .dataframe tbody tr th {\n",
       "        vertical-align: top;\n",
       "    }\n",
       "\n",
       "    .dataframe thead th {\n",
       "        text-align: right;\n",
       "    }\n",
       "</style>\n",
       "<table border=\"1\" class=\"dataframe\">\n",
       "  <thead>\n",
       "    <tr style=\"text-align: right;\">\n",
       "      <th></th>\n",
       "      <th>title</th>\n",
       "      <th>rating_count</th>\n",
       "    </tr>\n",
       "  </thead>\n",
       "  <tbody>\n",
       "    <tr>\n",
       "      <th>257</th>\n",
       "      <td>Pulp Fiction (1994)</td>\n",
       "      <td>307</td>\n",
       "    </tr>\n",
       "    <tr>\n",
       "      <th>510</th>\n",
       "      <td>Silence of the Lambs, The (1991)</td>\n",
       "      <td>279</td>\n",
       "    </tr>\n",
       "    <tr>\n",
       "      <th>1938</th>\n",
       "      <td>Matrix, The (1999)</td>\n",
       "      <td>278</td>\n",
       "    </tr>\n",
       "  </tbody>\n",
       "</table>\n",
       "</div>"
      ],
      "text/plain": [
       "                                 title  rating_count\n",
       "257                Pulp Fiction (1994)           307\n",
       "510   Silence of the Lambs, The (1991)           279\n",
       "1938                Matrix, The (1999)           278"
      ]
     },
     "execution_count": 13,
     "metadata": {},
     "output_type": "execute_result"
    }
   ],
   "source": [
    "# Find the top 5 movies based on the number of user ratings\n",
    "top_5_popular_movies = filtered_df.nlargest(5, 'rating_count')\n",
    "\n",
    "# Check if the provided movies are in the top 5\n",
    "provided_movies = [\"Pulp Fiction (1994)\", \"Bad Boys (1995)\", \"Silence of the Lambs, The (1991)\", \"Matrix, The (1999)\"]\n",
    "correct_options = top_5_popular_movies[top_5_popular_movies['title'].isin(provided_movies)]\n",
    "\n",
    "correct_options[['title', 'rating_count']]\n"
   ]
  },
  {
   "cell_type": "code",
   "execution_count": 14,
   "id": "ade3249c-0207-4bf9-b228-5b1e2b71287c",
   "metadata": {},
   "outputs": [
    {
     "data": {
      "text/plain": [
       "title           Jurassic Park (1993)\n",
       "rating_count                     238\n",
       "Name: 418, dtype: object"
      ]
     },
     "execution_count": 14,
     "metadata": {},
     "output_type": "execute_result"
    }
   ],
   "source": [
    "# Filter for Sci-Fi movies only\n",
    "sci_fi_movies = filtered_df[filtered_df['genres'].str.contains('Sci-Fi')]\n",
    "\n",
    "# Sort by the number of user ratings and find the third most popular\n",
    "third_most_popular_sci_fi_movie = sci_fi_movies.nlargest(3, 'rating_count').iloc[-1]\n",
    "\n",
    "third_most_popular_sci_fi_movie[['title', 'rating_count']]"
   ]
  },
  {
   "cell_type": "code",
   "execution_count": null,
   "id": "3636ed7d-c376-41c3-a617-4dbdad3c97e2",
   "metadata": {},
   "outputs": [],
   "source": []
  }
 ],
 "metadata": {
  "kernelspec": {
   "display_name": "Python 3 (ipykernel)",
   "language": "python",
   "name": "python3"
  },
  "language_info": {
   "codemirror_mode": {
    "name": "ipython",
    "version": 3
   },
   "file_extension": ".py",
   "mimetype": "text/x-python",
   "name": "python",
   "nbconvert_exporter": "python",
   "pygments_lexer": "ipython3",
   "version": "3.12.4"
  }
 },
 "nbformat": 4,
 "nbformat_minor": 5
}
